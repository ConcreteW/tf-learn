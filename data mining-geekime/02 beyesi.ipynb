{
 "cells": [
  {
   "cell_type": "markdown",
   "metadata": {},
   "source": [
    "#  朴素贝叶斯\n",
    "有三个概念  \n",
    "1. 贝叶斯原理\n",
    "2. 贝叶斯分类\n",
    "3. 朴素贝叶斯\n",
    "\n",
    "其中1是原理基础，它定性了“逆向概率”求后验概率的基本思路。然后在1的基础上人们实现了贝叶斯分类，而朴素贝叶斯是对2加了强假设条件：条件概率相对独立。  \n",
    "\n",
    "**为什么贝叶斯是分类：**其实贝叶斯分类无处不在，比如我们街上看到了一个人，它拿的苹果手机，然后我们做出推断，他比较有钱。这就是一个经验分类问题。    \n",
    "\n",
    "**贝叶斯估计的问题：** 我们要估计的属性是**条件概率**，比如取出来的棋子是白色，那他来自a盒子的概率是多少。  "
   ]
  },
  {
   "cell_type": "markdown",
   "metadata": {},
   "source": [
    "# 例子-文档分类\n",
    "朴素贝叶斯应用较广的场景就是文本分类、情感分析和垃圾邮件识别，这些都是分类问题，而且本质上都是文本分类，所以朴素贝叶斯也是**自然语言处理**的常用算法  "
   ]
  },
  {
   "cell_type": "markdown",
   "metadata": {},
   "source": [
    "sklearn中提供了三种贝叶斯分类算法： \n",
    "1. 高斯朴素贝叶斯（GasussianNB）：特征变量连续，符合高斯分布\n",
    "2. 多项式朴素贝叶斯（MultinomialNB）：特征变量离散，符合多项式分布。场景，在文本分类中特征单词出现次数、或者tf-idf值\n",
    "3. 伯努利朴素贝叶斯（BernoulliNB）：特征变量是布尔0-1类型， 场景：在文本分类中特征单词是否出现"
   ]
  },
  {
   "cell_type": "markdown",
   "metadata": {},
   "source": [
    "## 1.1 tf-idf作为特征"
   ]
  },
  {
   "cell_type": "code",
   "execution_count": 3,
   "metadata": {},
   "outputs": [],
   "source": [
    "from sklearn.feature_extraction.text import TfidfVectorizer\n",
    "\n",
    "\n",
    "documents =[\n",
    "    'this is the bayes document',\n",
    "    'this is the second document',\n",
    "    'and the third one',\n",
    "    'is this the document'\n",
    "]"
   ]
  },
  {
   "cell_type": "code",
   "execution_count": 4,
   "metadata": {},
   "outputs": [],
   "source": [
    "tfidfvec = TfidfVectorizer()\n",
    "\n",
    "tfidf_matrix = tfidfvec.fit_transform(documents)"
   ]
  },
  {
   "cell_type": "code",
   "execution_count": 8,
   "metadata": {},
   "outputs": [
    {
     "name": "stdout",
     "output_type": "stream",
     "text": [
      "不重复的词 ['and', 'bayes', 'document', 'is', 'one', 'second', 'the', 'third', 'this']\n",
      "每个单词的id {'this': 8, 'is': 3, 'the': 6, 'bayes': 1, 'document': 2, 'second': 5, 'and': 0, 'third': 7, 'one': 4}\n",
      "每个单词的tfidf(按照id顺序打印)   (0, 8)\t0.40412894713275094\n",
      "  (0, 3)\t0.40412894713275094\n",
      "  (0, 6)\t0.3304018949358263\n",
      "  (0, 1)\t0.6331460890591822\n",
      "  (0, 2)\t0.40412894713275094\n",
      "  (1, 8)\t0.40412894713275094\n",
      "  (1, 3)\t0.40412894713275094\n",
      "  (1, 6)\t0.3304018949358263\n",
      "  (1, 2)\t0.40412894713275094\n",
      "  (1, 5)\t0.6331460890591822\n",
      "  (2, 6)\t0.2884767487500274\n",
      "  (2, 0)\t0.5528053199908667\n",
      "  (2, 7)\t0.5528053199908667\n",
      "  (2, 4)\t0.5528053199908667\n",
      "  (3, 8)\t0.5221086219944969\n",
      "  (3, 3)\t0.5221086219944969\n",
      "  (3, 6)\t0.42685800978431027\n",
      "  (3, 2)\t0.5221086219944969\n"
     ]
    }
   ],
   "source": [
    "print('不重复的词',tfidfvec.get_feature_names())\n",
    "print('每个单词的id', tfidfvec.vocabulary_)\n",
    "print('每个单词的tfidf(按照id顺序打印)', tfidf_matrix)"
   ]
  },
  {
   "cell_type": "markdown",
   "metadata": {},
   "source": [
    "## 1.2 用贝叶斯分类做模型训练"
   ]
  },
  {
   "cell_type": "code",
   "execution_count": 9,
   "metadata": {},
   "outputs": [],
   "source": [
    "from sklearn.naive_bayes import MultinomialNB"
   ]
  },
  {
   "cell_type": "code",
   "execution_count": 10,
   "metadata": {},
   "outputs": [
    {
     "ename": "NameError",
     "evalue": "name 'train_lables' is not defined",
     "output_type": "error",
     "traceback": [
      "\u001b[1;31m---------------------------------------------------------------------------\u001b[0m",
      "\u001b[1;31mNameError\u001b[0m                                 Traceback (most recent call last)",
      "\u001b[1;32m<ipython-input-10-d6f3d8d47ae1>\u001b[0m in \u001b[0;36m<module>\u001b[1;34m\u001b[0m\n\u001b[0;32m      1\u001b[0m \u001b[1;32mfrom\u001b[0m \u001b[0msklearn\u001b[0m\u001b[1;33m.\u001b[0m\u001b[0mnaive_bayes\u001b[0m \u001b[1;32mimport\u001b[0m \u001b[0mMultinomialNB\u001b[0m\u001b[1;33m\u001b[0m\u001b[1;33m\u001b[0m\u001b[0m\n\u001b[1;32m----> 2\u001b[1;33m \u001b[0mclf\u001b[0m \u001b[1;33m=\u001b[0m \u001b[0mMultinomialNB\u001b[0m\u001b[1;33m(\u001b[0m\u001b[1;33m)\u001b[0m\u001b[1;33m.\u001b[0m\u001b[0mfit\u001b[0m\u001b[1;33m(\u001b[0m\u001b[0mtfidf_matrix\u001b[0m\u001b[1;33m,\u001b[0m\u001b[0mtrain_lables\u001b[0m\u001b[1;33m)\u001b[0m\u001b[1;33m\u001b[0m\u001b[1;33m\u001b[0m\u001b[0m\n\u001b[0m\u001b[0;32m      3\u001b[0m \u001b[1;33m\u001b[0m\u001b[0m\n\u001b[0;32m      4\u001b[0m \u001b[0mpredict_lables\u001b[0m \u001b[1;33m=\u001b[0m \u001b[0mclf\u001b[0m\u001b[1;33m.\u001b[0m\u001b[0mpredict\u001b[0m\u001b[1;33m(\u001b[0m\u001b[0mtest_featrues\u001b[0m\u001b[1;33m)\u001b[0m\u001b[1;33m\u001b[0m\u001b[1;33m\u001b[0m\u001b[0m\n",
      "\u001b[1;31mNameError\u001b[0m: name 'train_lables' is not defined"
     ]
    }
   ],
   "source": [
    "from sklearn.naive_bayes import MultinomialNB\n",
    "clf = MultinomialNB().fit(tfidf_matrix,train_lables)\n",
    "\n",
    "predict_lables = clf.predict(test_featrues)"
   ]
  },
  {
   "cell_type": "markdown",
   "metadata": {},
   "source": [
    "## 1.3 作业-文章分类"
   ]
  },
  {
   "cell_type": "code",
   "execution_count": null,
   "metadata": {},
   "outputs": [],
   "source": []
  }
 ],
 "metadata": {
  "kernelspec": {
   "display_name": "Python 3",
   "language": "python",
   "name": "python3"
  },
  "language_info": {
   "codemirror_mode": {
    "name": "ipython",
    "version": 3
   },
   "file_extension": ".py",
   "mimetype": "text/x-python",
   "name": "python",
   "nbconvert_exporter": "python",
   "pygments_lexer": "ipython3",
   "version": "3.7.3"
  }
 },
 "nbformat": 4,
 "nbformat_minor": 2
}
