{
 "cells": [
  {
   "cell_type": "code",
   "execution_count": 16,
   "metadata": {},
   "outputs": [],
   "source": [
    "import tensorflow as tf"
   ]
  },
  {
   "cell_type": "code",
   "execution_count": 17,
   "metadata": {
    "scrolled": true
   },
   "outputs": [
    {
     "data": {
      "text/plain": [
       "'1.13.1'"
      ]
     },
     "execution_count": 17,
     "metadata": {},
     "output_type": "execute_result"
    }
   ],
   "source": [
    "tf.__version__"
   ]
  },
  {
   "cell_type": "markdown",
   "metadata": {},
   "source": [
    "## 1.tf的数据类型\n",
    "### 1.1基本概念\n",
    "Tensor 在数学中是“张量”\n",
    "\n",
    "标量，矢量/向量，张量\n",
    "\n",
    "简单地理解\n",
    "- 标量表示值\n",
    "- 矢量表示一个方向\n",
    "- 张量表示整个空间\n",
    "\n",
    "一维数组是矢量\n",
    "多维数组是张量, 矩阵也是张量\n",
    "\n",
    "\n",
    "### 1.2  四个重要的类型\n",
    "1. Variable\t\t计算图谱中的变量   \n",
    "2. Tensor\t\t（张量）一个多维矩阵，带有很多方法\n",
    "3. Graph\t\t一个计算图谱\n",
    "4. Session\t\t（会话）用来运行一个计算图谱\n",
    "\n",
    "### 1.3 三个重要的函数\n",
    "1. Variable 是一个class\n",
    "```python\n",
    "tf.Variable.__init__(\n",
    "    initial_value=None, @Tensor\n",
    "    trainable=True,\n",
    "    collections=None,\n",
    "    validate_shape=True,\n",
    "    caching_device=None,\n",
    "    name=None,\n",
    "    variable_def=None,\n",
    "    dtype=None)\n",
    "```\n",
    "2. constant 常数，**注意小写**,他不是variable,而是一个Tensor\n",
    "```python\n",
    "tf.constant(value, dtype=None, shape=None, name='Const')\n",
    "return: a constant @Tensor\n",
    "```\n",
    "3. placeholder 暂时变量\n",
    "```python\n",
    "tf.placeholder(dtype, shape=None, name=None)\n",
    "return: 一个还尚未存在的 @Tensor\n",
    "```\n"
   ]
  },
  {
   "cell_type": "markdown",
   "metadata": {},
   "source": [
    "# 2.让我们用计算图谱来实现一些简单的函数\n",
    "## 2.1 四则运算"
   ]
  },
  {
   "cell_type": "code",
   "execution_count": 18,
   "metadata": {},
   "outputs": [
    {
     "name": "stdout",
     "output_type": "stream",
     "text": [
      "WARNING:tensorflow:From G:\\Anaconda3\\lib\\site-packages\\tensorflow\\python\\framework\\op_def_library.py:263: colocate_with (from tensorflow.python.framework.ops) is deprecated and will be removed in a future version.\n",
      "Instructions for updating:\n",
      "Colocations handled automatically by placer.\n"
     ]
    }
   ],
   "source": [
    "x = tf.Variable(3, name=\"x\")\n",
    "y = tf.Variable(4, name =\"y\")\n",
    "f = x * x * y + y"
   ]
  },
  {
   "cell_type": "code",
   "execution_count": 19,
   "metadata": {},
   "outputs": [],
   "source": [
    "with tf.Session() as sess:\n",
    "    x.initializer.run()\n",
    "    y.initializer.run()\n",
    "    result = f.eval()"
   ]
  },
  {
   "cell_type": "code",
   "execution_count": 20,
   "metadata": {},
   "outputs": [
    {
     "data": {
      "text/plain": [
       "40"
      ]
     },
     "execution_count": 20,
     "metadata": {},
     "output_type": "execute_result"
    }
   ],
   "source": [
    "result"
   ]
  },
  {
   "cell_type": "code",
   "execution_count": 23,
   "metadata": {},
   "outputs": [
    {
     "data": {
      "text/plain": [
       "40"
      ]
     },
     "execution_count": 23,
     "metadata": {},
     "output_type": "execute_result"
    }
   ],
   "source": [
    "with tf.Session() as sess:\n",
    "    x.initializer.run()\n",
    "    y.initializer.run()\n",
    "    result = sess.run(f) #    和这个写发作用完全一样 result = f.eval()\n",
    "result"
   ]
  },
  {
   "cell_type": "markdown",
   "metadata": {},
   "source": [
    "## 2.1 运算的值"
   ]
  },
  {
   "cell_type": "code",
   "execution_count": 24,
   "metadata": {},
   "outputs": [
    {
     "data": {
      "text/plain": [
       "<tf.Variable 'y:0' shape=() dtype=int32_ref>"
      ]
     },
     "execution_count": 24,
     "metadata": {},
     "output_type": "execute_result"
    }
   ],
   "source": [
    "y"
   ]
  },
  {
   "cell_type": "code",
   "execution_count": 25,
   "metadata": {},
   "outputs": [
    {
     "data": {
      "text/plain": [
       "tensorflow.python.ops.variables.RefVariable"
      ]
     },
     "execution_count": 25,
     "metadata": {},
     "output_type": "execute_result"
    }
   ],
   "source": [
    "type(y)"
   ]
  },
  {
   "cell_type": "markdown",
   "metadata": {},
   "source": [
    "这里没有开启session\\初始化\\计算，所以：  \n",
    "我们看到这里他是一个Variable,还未进行运算，没有结果。\n",
    "\n",
    "那么我们再看看constant是什么："
   ]
  },
  {
   "cell_type": "code",
   "execution_count": 34,
   "metadata": {},
   "outputs": [
    {
     "name": "stdout",
     "output_type": "stream",
     "text": [
      "Tensor(\"Const_4:0\", shape=(), dtype=int32)\n",
      "<class 'tensorflow.python.framework.ops.Tensor'>\n"
     ]
    }
   ],
   "source": [
    "c = tf.constant(5)\n",
    "print(c)\n",
    "print(type(c))"
   ]
  },
  {
   "cell_type": "markdown",
   "metadata": {},
   "source": [
    "## 2.2 Graph 操作"
   ]
  },
  {
   "cell_type": "markdown",
   "metadata": {},
   "source": [
    "我们新建了一个计算图谱，把他li**临时**设定为tf的默认计算图谱，在这个图谱里初始化了俩参数"
   ]
  },
  {
   "cell_type": "code",
   "execution_count": 52,
   "metadata": {},
   "outputs": [],
   "source": [
    "graph = tf.Graph()\n",
    "\n",
    "with graph.as_default():\n",
    "    value1 = tf.constant([1, 2])\n",
    "    value2 = tf.Variable([3, 4])\n",
    "    mul = value1 / value2"
   ]
  },
  {
   "cell_type": "markdown",
   "metadata": {},
   "source": [
    "看到没,出了自定义的图空间就不是默认图了"
   ]
  },
  {
   "cell_type": "code",
   "execution_count": 61,
   "metadata": {},
   "outputs": [
    {
     "data": {
      "text/plain": [
       "False"
      ]
     },
     "execution_count": 61,
     "metadata": {},
     "output_type": "execute_result"
    }
   ],
   "source": [
    "value1.graph is tf.get_default_graph()"
   ]
  },
  {
   "cell_type": "markdown",
   "metadata": {},
   "source": [
    "在开启会话的时候传入了这个图谱，那么这个session就只在Graph作用范围内进行计算"
   ]
  },
  {
   "cell_type": "code",
   "execution_count": 54,
   "metadata": {},
   "outputs": [
    {
     "name": "stdout",
     "output_type": "stream",
     "text": [
      "<tf.Variable 'Variable_2:0' shape=() dtype=int32_ref>\n",
      "对应的除法(value1, value2) =  [0.33333333 0.5       ]\n",
      "对应的除法(value1, value2) =  [0.33333333 0.5       ]\n"
     ]
    }
   ],
   "source": [
    "with tf.Session(graph=graph) as mySess:\n",
    "    tf.initialize_all_variables().run()\n",
    "    print(x)\n",
    "#     print(mySess.run(y1)) #异常，不能参加运算\n",
    "    print('对应的除法(value1, value2) = ', mySess.run(mul))\n",
    "    print('对应的除法(value1, value2) = ', mul.eval())"
   ]
  },
  {
   "cell_type": "code",
   "execution_count": 58,
   "metadata": {},
   "outputs": [],
   "source": [
    "with graph.as_default():\n",
    "    x = tf.Variable(1)\n",
    "    y1 = x + 1\n",
    "    value1 = tf.constant([1, 2])\n",
    "    value2 = tf.Variable([3, 4])\n",
    "    mul = value1 / value2\n"
   ]
  },
  {
   "cell_type": "code",
   "execution_count": 59,
   "metadata": {},
   "outputs": [
    {
     "name": "stdout",
     "output_type": "stream",
     "text": [
      "2\n"
     ]
    }
   ],
   "source": [
    "with tf.Session(graph=graph) as mySess:\n",
    "    tf.initialize_all_variables().run()\n",
    "#     print(x)\n",
    "    print(mySess.run(y1)) #ok\n",
    "#     print('对应的除法(value1, value2) = ', mySess.run(mul))\n",
    "#     print('对应的除法(value1, value2) = ', mul.eval())"
   ]
  },
  {
   "cell_type": "markdown",
   "metadata": {},
   "source": [
    "## 2.3  placeholder来节省内存"
   ]
  },
  {
   "cell_type": "code",
   "execution_count": 60,
   "metadata": {},
   "outputs": [
    {
     "name": "stdout",
     "output_type": "stream",
     "text": [
      "乘法(value1, value2) =  [ 0. -4.]\n",
      "乘法(value1, value2) =  [ -6. -12.]\n",
      "乘法(value1, value2) =  [-12. -20.]\n",
      "乘法(value1, value2) =  [-18. -28.]\n",
      "乘法(value1, value2) =  [-24. -36.]\n",
      "乘法(value1, value2) =  [-30. -44.]\n",
      "乘法(value1, value2) =  [-36. -52.]\n",
      "乘法(value1, value2) =  [-42. -60.]\n",
      "乘法(value1, value2) =  [-48. -68.]\n",
      "乘法(value1, value2) =  [-54. -76.]\n",
      "乘法(value1, value2) =  [-60. -84.]\n",
      "乘法(value1, value2) =  [-66. -92.]\n",
      "乘法(value1, value2) =  [ -72. -100.]\n",
      "乘法(value1, value2) =  [ -78. -108.]\n",
      "乘法(value1, value2) =  [ -84. -116.]\n",
      "乘法(value1, value2) =  [ -90. -124.]\n",
      "乘法(value1, value2) =  [ -96. -132.]\n",
      "乘法(value1, value2) =  [-102. -140.]\n",
      "乘法(value1, value2) =  [-108. -148.]\n",
      "乘法(value1, value2) =  [-114. -156.]\n",
      "乘法(value1, value2) =  [-120. -164.]\n",
      "乘法(value1, value2) =  [-126. -172.]\n",
      "乘法(value1, value2) =  [-132. -180.]\n",
      "乘法(value1, value2) =  [-138. -188.]\n",
      "乘法(value1, value2) =  [-144. -196.]\n",
      "乘法(value1, value2) =  [-150. -204.]\n",
      "乘法(value1, value2) =  [-156. -212.]\n",
      "乘法(value1, value2) =  [-162. -220.]\n",
      "乘法(value1, value2) =  [-168. -228.]\n",
      "乘法(value1, value2) =  [-174. -236.]\n",
      "乘法(value1, value2) =  [-180. -244.]\n",
      "乘法(value1, value2) =  [-186. -252.]\n",
      "乘法(value1, value2) =  [-192. -260.]\n",
      "乘法(value1, value2) =  [-198. -268.]\n",
      "乘法(value1, value2) =  [-204. -276.]\n",
      "乘法(value1, value2) =  [-210. -284.]\n",
      "乘法(value1, value2) =  [-216. -292.]\n",
      "乘法(value1, value2) =  [-222. -300.]\n",
      "乘法(value1, value2) =  [-228. -308.]\n",
      "乘法(value1, value2) =  [-234. -316.]\n",
      "乘法(value1, value2) =  [-240. -324.]\n",
      "乘法(value1, value2) =  [-246. -332.]\n",
      "乘法(value1, value2) =  [-252. -340.]\n",
      "乘法(value1, value2) =  [-258. -348.]\n",
      "乘法(value1, value2) =  [-264. -356.]\n",
      "乘法(value1, value2) =  [-270. -364.]\n",
      "乘法(value1, value2) =  [-276. -372.]\n",
      "乘法(value1, value2) =  [-282. -380.]\n",
      "乘法(value1, value2) =  [-288. -388.]\n",
      "乘法(value1, value2) =  [-294. -396.]\n",
      "乘法(value1, value2) =  [-300. -404.]\n",
      "乘法(value1, value2) =  [-306. -412.]\n",
      "乘法(value1, value2) =  [-312. -420.]\n",
      "乘法(value1, value2) =  [-318. -428.]\n",
      "乘法(value1, value2) =  [-324. -436.]\n",
      "乘法(value1, value2) =  [-330. -444.]\n",
      "乘法(value1, value2) =  [-336. -452.]\n",
      "乘法(value1, value2) =  [-342. -460.]\n",
      "乘法(value1, value2) =  [-348. -468.]\n",
      "乘法(value1, value2) =  [-354. -476.]\n",
      "乘法(value1, value2) =  [-360. -484.]\n",
      "乘法(value1, value2) =  [-366. -492.]\n",
      "乘法(value1, value2) =  [-372. -500.]\n",
      "乘法(value1, value2) =  [-378. -508.]\n",
      "乘法(value1, value2) =  [-384. -516.]\n",
      "乘法(value1, value2) =  [-390. -524.]\n",
      "乘法(value1, value2) =  [-396. -532.]\n",
      "乘法(value1, value2) =  [-402. -540.]\n",
      "乘法(value1, value2) =  [-408. -548.]\n",
      "乘法(value1, value2) =  [-414. -556.]\n",
      "乘法(value1, value2) =  [-420. -564.]\n",
      "乘法(value1, value2) =  [-426. -572.]\n",
      "乘法(value1, value2) =  [-432. -580.]\n",
      "乘法(value1, value2) =  [-438. -588.]\n",
      "乘法(value1, value2) =  [-444. -596.]\n",
      "乘法(value1, value2) =  [-450. -604.]\n",
      "乘法(value1, value2) =  [-456. -612.]\n",
      "乘法(value1, value2) =  [-462. -620.]\n",
      "乘法(value1, value2) =  [-468. -628.]\n",
      "乘法(value1, value2) =  [-474. -636.]\n",
      "乘法(value1, value2) =  [-480. -644.]\n",
      "乘法(value1, value2) =  [-486. -652.]\n",
      "乘法(value1, value2) =  [-492. -660.]\n",
      "乘法(value1, value2) =  [-498. -668.]\n",
      "乘法(value1, value2) =  [-504. -676.]\n",
      "乘法(value1, value2) =  [-510. -684.]\n",
      "乘法(value1, value2) =  [-516. -692.]\n",
      "乘法(value1, value2) =  [-522. -700.]\n",
      "乘法(value1, value2) =  [-528. -708.]\n",
      "乘法(value1, value2) =  [-534. -716.]\n",
      "乘法(value1, value2) =  [-540. -724.]\n",
      "乘法(value1, value2) =  [-546. -732.]\n",
      "乘法(value1, value2) =  [-552. -740.]\n",
      "乘法(value1, value2) =  [-558. -748.]\n",
      "乘法(value1, value2) =  [-564. -756.]\n",
      "乘法(value1, value2) =  [-570. -764.]\n",
      "乘法(value1, value2) =  [-576. -772.]\n",
      "乘法(value1, value2) =  [-582. -780.]\n",
      "乘法(value1, value2) =  [-588. -788.]\n",
      "乘法(value1, value2) =  [-594. -796.]\n",
      "乘法(value1, value2) =  [-600. -804.]\n",
      "乘法(value1, value2) =  [-606. -812.]\n",
      "乘法(value1, value2) =  [-612. -820.]\n",
      "乘法(value1, value2) =  [-618. -828.]\n",
      "乘法(value1, value2) =  [-624. -836.]\n",
      "乘法(value1, value2) =  [-630. -844.]\n",
      "乘法(value1, value2) =  [-636. -852.]\n",
      "乘法(value1, value2) =  [-642. -860.]\n",
      "乘法(value1, value2) =  [-648. -868.]\n",
      "乘法(value1, value2) =  [-654. -876.]\n",
      "乘法(value1, value2) =  [-660. -884.]\n",
      "乘法(value1, value2) =  [-666. -892.]\n",
      "乘法(value1, value2) =  [-672. -900.]\n",
      "乘法(value1, value2) =  [-678. -908.]\n",
      "乘法(value1, value2) =  [-684. -916.]\n",
      "乘法(value1, value2) =  [-690. -924.]\n",
      "乘法(value1, value2) =  [-696. -932.]\n",
      "乘法(value1, value2) =  [-702. -940.]\n",
      "乘法(value1, value2) =  [-708. -948.]\n",
      "乘法(value1, value2) =  [-714. -956.]\n",
      "乘法(value1, value2) =  [-720. -964.]\n",
      "乘法(value1, value2) =  [-726. -972.]\n",
      "乘法(value1, value2) =  [-732. -980.]\n",
      "乘法(value1, value2) =  [-738. -988.]\n",
      "乘法(value1, value2) =  [-744. -996.]\n",
      "乘法(value1, value2) =  [ -750. -1004.]\n",
      "乘法(value1, value2) =  [ -756. -1012.]\n",
      "乘法(value1, value2) =  [ -762. -1020.]\n",
      "乘法(value1, value2) =  [ -768. -1028.]\n",
      "乘法(value1, value2) =  [ -774. -1036.]\n",
      "乘法(value1, value2) =  [ -780. -1044.]\n",
      "乘法(value1, value2) =  [ -786. -1052.]\n",
      "乘法(value1, value2) =  [ -792. -1060.]\n",
      "乘法(value1, value2) =  [ -798. -1068.]\n",
      "乘法(value1, value2) =  [ -804. -1076.]\n",
      "乘法(value1, value2) =  [ -810. -1084.]\n",
      "乘法(value1, value2) =  [ -816. -1092.]\n",
      "乘法(value1, value2) =  [ -822. -1100.]\n",
      "乘法(value1, value2) =  [ -828. -1108.]\n",
      "乘法(value1, value2) =  [ -834. -1116.]\n",
      "乘法(value1, value2) =  [ -840. -1124.]\n",
      "乘法(value1, value2) =  [ -846. -1132.]\n",
      "乘法(value1, value2) =  [ -852. -1140.]\n",
      "乘法(value1, value2) =  [ -858. -1148.]\n",
      "乘法(value1, value2) =  [ -864. -1156.]\n",
      "乘法(value1, value2) =  [ -870. -1164.]\n",
      "乘法(value1, value2) =  [ -876. -1172.]\n",
      "乘法(value1, value2) =  [ -882. -1180.]\n",
      "乘法(value1, value2) =  [ -888. -1188.]\n",
      "乘法(value1, value2) =  [ -894. -1196.]\n",
      "乘法(value1, value2) =  [ -900. -1204.]\n",
      "乘法(value1, value2) =  [ -906. -1212.]\n",
      "乘法(value1, value2) =  [ -912. -1220.]\n",
      "乘法(value1, value2) =  [ -918. -1228.]\n",
      "乘法(value1, value2) =  [ -924. -1236.]\n",
      "乘法(value1, value2) =  [ -930. -1244.]\n",
      "乘法(value1, value2) =  [ -936. -1252.]\n",
      "乘法(value1, value2) =  [ -942. -1260.]\n",
      "乘法(value1, value2) =  [ -948. -1268.]\n",
      "乘法(value1, value2) =  [ -954. -1276.]\n",
      "乘法(value1, value2) =  [ -960. -1284.]\n",
      "乘法(value1, value2) =  [ -966. -1292.]\n",
      "乘法(value1, value2) =  [ -972. -1300.]\n",
      "乘法(value1, value2) =  [ -978. -1308.]\n",
      "乘法(value1, value2) =  [ -984. -1316.]\n",
      "乘法(value1, value2) =  [ -990. -1324.]\n",
      "乘法(value1, value2) =  [ -996. -1332.]\n",
      "乘法(value1, value2) =  [-1002. -1340.]\n",
      "乘法(value1, value2) =  [-1008. -1348.]\n",
      "乘法(value1, value2) =  [-1014. -1356.]\n",
      "乘法(value1, value2) =  [-1020. -1364.]\n",
      "乘法(value1, value2) =  [-1026. -1372.]\n",
      "乘法(value1, value2) =  [-1032. -1380.]\n",
      "乘法(value1, value2) =  [-1038. -1388.]\n",
      "乘法(value1, value2) =  [-1044. -1396.]\n",
      "乘法(value1, value2) =  [-1050. -1404.]\n",
      "乘法(value1, value2) =  [-1056. -1412.]\n",
      "乘法(value1, value2) =  [-1062. -1420.]\n",
      "乘法(value1, value2) =  [-1068. -1428.]\n",
      "乘法(value1, value2) =  [-1074. -1436.]\n",
      "乘法(value1, value2) =  [-1080. -1444.]\n",
      "乘法(value1, value2) =  [-1086. -1452.]\n",
      "乘法(value1, value2) =  [-1092. -1460.]\n",
      "乘法(value1, value2) =  [-1098. -1468.]\n",
      "乘法(value1, value2) =  [-1104. -1476.]\n",
      "乘法(value1, value2) =  [-1110. -1484.]\n",
      "乘法(value1, value2) =  [-1116. -1492.]\n",
      "乘法(value1, value2) =  [-1122. -1500.]\n",
      "乘法(value1, value2) =  [-1128. -1508.]\n",
      "乘法(value1, value2) =  [-1134. -1516.]\n",
      "乘法(value1, value2) =  [-1140. -1524.]\n",
      "乘法(value1, value2) =  [-1146. -1532.]\n",
      "乘法(value1, value2) =  [-1152. -1540.]\n",
      "乘法(value1, value2) =  [-1158. -1548.]\n",
      "乘法(value1, value2) =  [-1164. -1556.]\n",
      "乘法(value1, value2) =  [-1170. -1564.]\n",
      "乘法(value1, value2) =  [-1176. -1572.]\n",
      "乘法(value1, value2) =  [-1182. -1580.]\n",
      "乘法(value1, value2) =  [-1188. -1588.]\n",
      "乘法(value1, value2) =  [-1194. -1596.]\n",
      "乘法(value1, value2) =  [-1200. -1604.]\n",
      "乘法(value1, value2) =  [-1206. -1612.]\n",
      "乘法(value1, value2) =  [-1212. -1620.]\n",
      "乘法(value1, value2) =  [-1218. -1628.]\n",
      "乘法(value1, value2) =  [-1224. -1636.]\n",
      "乘法(value1, value2) =  [-1230. -1644.]\n",
      "乘法(value1, value2) =  [-1236. -1652.]\n",
      "乘法(value1, value2) =  [-1242. -1660.]\n",
      "乘法(value1, value2) =  [-1248. -1668.]\n",
      "乘法(value1, value2) =  [-1254. -1676.]\n",
      "乘法(value1, value2) =  [-1260. -1684.]\n",
      "乘法(value1, value2) =  [-1266. -1692.]\n",
      "乘法(value1, value2) =  [-1272. -1700.]\n",
      "乘法(value1, value2) =  [-1278. -1708.]\n",
      "乘法(value1, value2) =  [-1284. -1716.]\n",
      "乘法(value1, value2) =  [-1290. -1724.]\n",
      "乘法(value1, value2) =  [-1296. -1732.]\n",
      "乘法(value1, value2) =  [-1302. -1740.]\n",
      "乘法(value1, value2) =  [-1308. -1748.]\n",
      "乘法(value1, value2) =  [-1314. -1756.]\n",
      "乘法(value1, value2) =  [-1320. -1764.]\n",
      "乘法(value1, value2) =  [-1326. -1772.]\n",
      "乘法(value1, value2) =  [-1332. -1780.]\n",
      "乘法(value1, value2) =  [-1338. -1788.]\n",
      "乘法(value1, value2) =  [-1344. -1796.]\n",
      "乘法(value1, value2) =  [-1350. -1804.]\n",
      "乘法(value1, value2) =  [-1356. -1812.]\n",
      "乘法(value1, value2) =  [-1362. -1820.]\n",
      "乘法(value1, value2) =  [-1368. -1828.]\n",
      "乘法(value1, value2) =  [-1374. -1836.]\n",
      "乘法(value1, value2) =  [-1380. -1844.]\n",
      "乘法(value1, value2) =  [-1386. -1852.]\n",
      "乘法(value1, value2) =  [-1392. -1860.]\n",
      "乘法(value1, value2) =  [-1398. -1868.]\n",
      "乘法(value1, value2) =  [-1404. -1876.]\n",
      "乘法(value1, value2) =  [-1410. -1884.]\n",
      "乘法(value1, value2) =  [-1416. -1892.]\n",
      "乘法(value1, value2) =  [-1422. -1900.]\n",
      "乘法(value1, value2) =  [-1428. -1908.]\n",
      "乘法(value1, value2) =  [-1434. -1916.]\n",
      "乘法(value1, value2) =  [-1440. -1924.]\n",
      "乘法(value1, value2) =  [-1446. -1932.]\n",
      "乘法(value1, value2) =  [-1452. -1940.]\n",
      "乘法(value1, value2) =  [-1458. -1948.]\n",
      "乘法(value1, value2) =  [-1464. -1956.]\n",
      "乘法(value1, value2) =  [-1470. -1964.]\n",
      "乘法(value1, value2) =  [-1476. -1972.]\n",
      "乘法(value1, value2) =  [-1482. -1980.]\n",
      "乘法(value1, value2) =  [-1488. -1988.]\n",
      "乘法(value1, value2) =  [-1494. -1996.]\n",
      "乘法(value1, value2) =  [-1500. -2004.]\n",
      "乘法(value1, value2) =  [-1506. -2012.]\n",
      "乘法(value1, value2) =  [-1512. -2020.]\n",
      "乘法(value1, value2) =  [-1518. -2028.]\n",
      "乘法(value1, value2) =  [-1524. -2036.]\n",
      "乘法(value1, value2) =  [-1530. -2044.]\n",
      "乘法(value1, value2) =  [-1536. -2052.]\n",
      "乘法(value1, value2) =  [-1542. -2060.]\n",
      "乘法(value1, value2) =  [-1548. -2068.]\n",
      "乘法(value1, value2) =  [-1554. -2076.]\n",
      "乘法(value1, value2) =  [-1560. -2084.]\n",
      "乘法(value1, value2) =  [-1566. -2092.]\n",
      "乘法(value1, value2) =  [-1572. -2100.]\n",
      "乘法(value1, value2) =  [-1578. -2108.]\n",
      "乘法(value1, value2) =  [-1584. -2116.]\n",
      "乘法(value1, value2) =  [-1590. -2124.]\n",
      "乘法(value1, value2) =  [-1596. -2132.]\n",
      "乘法(value1, value2) =  [-1602. -2140.]\n",
      "乘法(value1, value2) =  [-1608. -2148.]\n",
      "乘法(value1, value2) =  [-1614. -2156.]\n",
      "乘法(value1, value2) =  [-1620. -2164.]\n",
      "乘法(value1, value2) =  [-1626. -2172.]\n",
      "乘法(value1, value2) =  [-1632. -2180.]\n",
      "乘法(value1, value2) =  [-1638. -2188.]\n",
      "乘法(value1, value2) =  [-1644. -2196.]\n",
      "乘法(value1, value2) =  [-1650. -2204.]\n",
      "乘法(value1, value2) =  [-1656. -2212.]\n",
      "乘法(value1, value2) =  [-1662. -2220.]\n",
      "乘法(value1, value2) =  [-1668. -2228.]\n",
      "乘法(value1, value2) =  [-1674. -2236.]\n",
      "乘法(value1, value2) =  [-1680. -2244.]\n",
      "乘法(value1, value2) =  [-1686. -2252.]\n",
      "乘法(value1, value2) =  [-1692. -2260.]\n",
      "乘法(value1, value2) =  [-1698. -2268.]\n",
      "乘法(value1, value2) =  [-1704. -2276.]\n",
      "乘法(value1, value2) =  [-1710. -2284.]\n"
     ]
    },
    {
     "name": "stdout",
     "output_type": "stream",
     "text": [
      "乘法(value1, value2) =  [-1716. -2292.]\n",
      "乘法(value1, value2) =  [-1722. -2300.]\n",
      "乘法(value1, value2) =  [-1728. -2308.]\n",
      "乘法(value1, value2) =  [-1734. -2316.]\n",
      "乘法(value1, value2) =  [-1740. -2324.]\n",
      "乘法(value1, value2) =  [-1746. -2332.]\n",
      "乘法(value1, value2) =  [-1752. -2340.]\n",
      "乘法(value1, value2) =  [-1758. -2348.]\n",
      "乘法(value1, value2) =  [-1764. -2356.]\n",
      "乘法(value1, value2) =  [-1770. -2364.]\n",
      "乘法(value1, value2) =  [-1776. -2372.]\n",
      "乘法(value1, value2) =  [-1782. -2380.]\n",
      "乘法(value1, value2) =  [-1788. -2388.]\n",
      "乘法(value1, value2) =  [-1794. -2396.]\n",
      "乘法(value1, value2) =  [-1800. -2404.]\n",
      "乘法(value1, value2) =  [-1806. -2412.]\n",
      "乘法(value1, value2) =  [-1812. -2420.]\n",
      "乘法(value1, value2) =  [-1818. -2428.]\n",
      "乘法(value1, value2) =  [-1824. -2436.]\n",
      "乘法(value1, value2) =  [-1830. -2444.]\n",
      "乘法(value1, value2) =  [-1836. -2452.]\n",
      "乘法(value1, value2) =  [-1842. -2460.]\n",
      "乘法(value1, value2) =  [-1848. -2468.]\n",
      "乘法(value1, value2) =  [-1854. -2476.]\n",
      "乘法(value1, value2) =  [-1860. -2484.]\n",
      "乘法(value1, value2) =  [-1866. -2492.]\n",
      "乘法(value1, value2) =  [-1872. -2500.]\n",
      "乘法(value1, value2) =  [-1878. -2508.]\n",
      "乘法(value1, value2) =  [-1884. -2516.]\n",
      "乘法(value1, value2) =  [-1890. -2524.]\n",
      "乘法(value1, value2) =  [-1896. -2532.]\n",
      "乘法(value1, value2) =  [-1902. -2540.]\n",
      "乘法(value1, value2) =  [-1908. -2548.]\n",
      "乘法(value1, value2) =  [-1914. -2556.]\n",
      "乘法(value1, value2) =  [-1920. -2564.]\n",
      "乘法(value1, value2) =  [-1926. -2572.]\n",
      "乘法(value1, value2) =  [-1932. -2580.]\n",
      "乘法(value1, value2) =  [-1938. -2588.]\n",
      "乘法(value1, value2) =  [-1944. -2596.]\n",
      "乘法(value1, value2) =  [-1950. -2604.]\n",
      "乘法(value1, value2) =  [-1956. -2612.]\n",
      "乘法(value1, value2) =  [-1962. -2620.]\n",
      "乘法(value1, value2) =  [-1968. -2628.]\n",
      "乘法(value1, value2) =  [-1974. -2636.]\n",
      "乘法(value1, value2) =  [-1980. -2644.]\n",
      "乘法(value1, value2) =  [-1986. -2652.]\n",
      "乘法(value1, value2) =  [-1992. -2660.]\n",
      "乘法(value1, value2) =  [-1998. -2668.]\n",
      "乘法(value1, value2) =  [-2004. -2676.]\n",
      "乘法(value1, value2) =  [-2010. -2684.]\n",
      "乘法(value1, value2) =  [-2016. -2692.]\n",
      "乘法(value1, value2) =  [-2022. -2700.]\n",
      "乘法(value1, value2) =  [-2028. -2708.]\n",
      "乘法(value1, value2) =  [-2034. -2716.]\n",
      "乘法(value1, value2) =  [-2040. -2724.]\n",
      "乘法(value1, value2) =  [-2046. -2732.]\n",
      "乘法(value1, value2) =  [-2052. -2740.]\n",
      "乘法(value1, value2) =  [-2058. -2748.]\n",
      "乘法(value1, value2) =  [-2064. -2756.]\n",
      "乘法(value1, value2) =  [-2070. -2764.]\n",
      "乘法(value1, value2) =  [-2076. -2772.]\n",
      "乘法(value1, value2) =  [-2082. -2780.]\n",
      "乘法(value1, value2) =  [-2088. -2788.]\n",
      "乘法(value1, value2) =  [-2094. -2796.]\n",
      "乘法(value1, value2) =  [-2100. -2804.]\n",
      "乘法(value1, value2) =  [-2106. -2812.]\n",
      "乘法(value1, value2) =  [-2112. -2820.]\n",
      "乘法(value1, value2) =  [-2118. -2828.]\n",
      "乘法(value1, value2) =  [-2124. -2836.]\n",
      "乘法(value1, value2) =  [-2130. -2844.]\n",
      "乘法(value1, value2) =  [-2136. -2852.]\n",
      "乘法(value1, value2) =  [-2142. -2860.]\n",
      "乘法(value1, value2) =  [-2148. -2868.]\n",
      "乘法(value1, value2) =  [-2154. -2876.]\n",
      "乘法(value1, value2) =  [-2160. -2884.]\n",
      "乘法(value1, value2) =  [-2166. -2892.]\n",
      "乘法(value1, value2) =  [-2172. -2900.]\n",
      "乘法(value1, value2) =  [-2178. -2908.]\n",
      "乘法(value1, value2) =  [-2184. -2916.]\n",
      "乘法(value1, value2) =  [-2190. -2924.]\n",
      "乘法(value1, value2) =  [-2196. -2932.]\n",
      "乘法(value1, value2) =  [-2202. -2940.]\n",
      "乘法(value1, value2) =  [-2208. -2948.]\n",
      "乘法(value1, value2) =  [-2214. -2956.]\n",
      "乘法(value1, value2) =  [-2220. -2964.]\n",
      "乘法(value1, value2) =  [-2226. -2972.]\n",
      "乘法(value1, value2) =  [-2232. -2980.]\n",
      "乘法(value1, value2) =  [-2238. -2988.]\n",
      "乘法(value1, value2) =  [-2244. -2996.]\n",
      "乘法(value1, value2) =  [-2250. -3004.]\n",
      "乘法(value1, value2) =  [-2256. -3012.]\n",
      "乘法(value1, value2) =  [-2262. -3020.]\n",
      "乘法(value1, value2) =  [-2268. -3028.]\n",
      "乘法(value1, value2) =  [-2274. -3036.]\n",
      "乘法(value1, value2) =  [-2280. -3044.]\n",
      "乘法(value1, value2) =  [-2286. -3052.]\n",
      "乘法(value1, value2) =  [-2292. -3060.]\n",
      "乘法(value1, value2) =  [-2298. -3068.]\n",
      "乘法(value1, value2) =  [-2304. -3076.]\n",
      "乘法(value1, value2) =  [-2310. -3084.]\n",
      "乘法(value1, value2) =  [-2316. -3092.]\n",
      "乘法(value1, value2) =  [-2322. -3100.]\n",
      "乘法(value1, value2) =  [-2328. -3108.]\n",
      "乘法(value1, value2) =  [-2334. -3116.]\n",
      "乘法(value1, value2) =  [-2340. -3124.]\n",
      "乘法(value1, value2) =  [-2346. -3132.]\n",
      "乘法(value1, value2) =  [-2352. -3140.]\n",
      "乘法(value1, value2) =  [-2358. -3148.]\n",
      "乘法(value1, value2) =  [-2364. -3156.]\n",
      "乘法(value1, value2) =  [-2370. -3164.]\n",
      "乘法(value1, value2) =  [-2376. -3172.]\n",
      "乘法(value1, value2) =  [-2382. -3180.]\n",
      "乘法(value1, value2) =  [-2388. -3188.]\n",
      "乘法(value1, value2) =  [-2394. -3196.]\n",
      "乘法(value1, value2) =  [-2400. -3204.]\n",
      "乘法(value1, value2) =  [-2406. -3212.]\n",
      "乘法(value1, value2) =  [-2412. -3220.]\n",
      "乘法(value1, value2) =  [-2418. -3228.]\n",
      "乘法(value1, value2) =  [-2424. -3236.]\n",
      "乘法(value1, value2) =  [-2430. -3244.]\n",
      "乘法(value1, value2) =  [-2436. -3252.]\n",
      "乘法(value1, value2) =  [-2442. -3260.]\n",
      "乘法(value1, value2) =  [-2448. -3268.]\n",
      "乘法(value1, value2) =  [-2454. -3276.]\n",
      "乘法(value1, value2) =  [-2460. -3284.]\n",
      "乘法(value1, value2) =  [-2466. -3292.]\n",
      "乘法(value1, value2) =  [-2472. -3300.]\n",
      "乘法(value1, value2) =  [-2478. -3308.]\n",
      "乘法(value1, value2) =  [-2484. -3316.]\n",
      "乘法(value1, value2) =  [-2490. -3324.]\n",
      "乘法(value1, value2) =  [-2496. -3332.]\n",
      "乘法(value1, value2) =  [-2502. -3340.]\n",
      "乘法(value1, value2) =  [-2508. -3348.]\n",
      "乘法(value1, value2) =  [-2514. -3356.]\n",
      "乘法(value1, value2) =  [-2520. -3364.]\n",
      "乘法(value1, value2) =  [-2526. -3372.]\n",
      "乘法(value1, value2) =  [-2532. -3380.]\n",
      "乘法(value1, value2) =  [-2538. -3388.]\n",
      "乘法(value1, value2) =  [-2544. -3396.]\n",
      "乘法(value1, value2) =  [-2550. -3404.]\n",
      "乘法(value1, value2) =  [-2556. -3412.]\n",
      "乘法(value1, value2) =  [-2562. -3420.]\n",
      "乘法(value1, value2) =  [-2568. -3428.]\n",
      "乘法(value1, value2) =  [-2574. -3436.]\n",
      "乘法(value1, value2) =  [-2580. -3444.]\n",
      "乘法(value1, value2) =  [-2586. -3452.]\n",
      "乘法(value1, value2) =  [-2592. -3460.]\n",
      "乘法(value1, value2) =  [-2598. -3468.]\n",
      "乘法(value1, value2) =  [-2604. -3476.]\n",
      "乘法(value1, value2) =  [-2610. -3484.]\n",
      "乘法(value1, value2) =  [-2616. -3492.]\n",
      "乘法(value1, value2) =  [-2622. -3500.]\n",
      "乘法(value1, value2) =  [-2628. -3508.]\n",
      "乘法(value1, value2) =  [-2634. -3516.]\n",
      "乘法(value1, value2) =  [-2640. -3524.]\n",
      "乘法(value1, value2) =  [-2646. -3532.]\n",
      "乘法(value1, value2) =  [-2652. -3540.]\n",
      "乘法(value1, value2) =  [-2658. -3548.]\n",
      "乘法(value1, value2) =  [-2664. -3556.]\n",
      "乘法(value1, value2) =  [-2670. -3564.]\n",
      "乘法(value1, value2) =  [-2676. -3572.]\n",
      "乘法(value1, value2) =  [-2682. -3580.]\n",
      "乘法(value1, value2) =  [-2688. -3588.]\n",
      "乘法(value1, value2) =  [-2694. -3596.]\n",
      "乘法(value1, value2) =  [-2700. -3604.]\n",
      "乘法(value1, value2) =  [-2706. -3612.]\n",
      "乘法(value1, value2) =  [-2712. -3620.]\n",
      "乘法(value1, value2) =  [-2718. -3628.]\n",
      "乘法(value1, value2) =  [-2724. -3636.]\n",
      "乘法(value1, value2) =  [-2730. -3644.]\n",
      "乘法(value1, value2) =  [-2736. -3652.]\n",
      "乘法(value1, value2) =  [-2742. -3660.]\n",
      "乘法(value1, value2) =  [-2748. -3668.]\n",
      "乘法(value1, value2) =  [-2754. -3676.]\n",
      "乘法(value1, value2) =  [-2760. -3684.]\n",
      "乘法(value1, value2) =  [-2766. -3692.]\n",
      "乘法(value1, value2) =  [-2772. -3700.]\n",
      "乘法(value1, value2) =  [-2778. -3708.]\n",
      "乘法(value1, value2) =  [-2784. -3716.]\n",
      "乘法(value1, value2) =  [-2790. -3724.]\n",
      "乘法(value1, value2) =  [-2796. -3732.]\n",
      "乘法(value1, value2) =  [-2802. -3740.]\n",
      "乘法(value1, value2) =  [-2808. -3748.]\n",
      "乘法(value1, value2) =  [-2814. -3756.]\n",
      "乘法(value1, value2) =  [-2820. -3764.]\n",
      "乘法(value1, value2) =  [-2826. -3772.]\n",
      "乘法(value1, value2) =  [-2832. -3780.]\n",
      "乘法(value1, value2) =  [-2838. -3788.]\n",
      "乘法(value1, value2) =  [-2844. -3796.]\n",
      "乘法(value1, value2) =  [-2850. -3804.]\n",
      "乘法(value1, value2) =  [-2856. -3812.]\n",
      "乘法(value1, value2) =  [-2862. -3820.]\n",
      "乘法(value1, value2) =  [-2868. -3828.]\n",
      "乘法(value1, value2) =  [-2874. -3836.]\n",
      "乘法(value1, value2) =  [-2880. -3844.]\n",
      "乘法(value1, value2) =  [-2886. -3852.]\n",
      "乘法(value1, value2) =  [-2892. -3860.]\n",
      "乘法(value1, value2) =  [-2898. -3868.]\n",
      "乘法(value1, value2) =  [-2904. -3876.]\n",
      "乘法(value1, value2) =  [-2910. -3884.]\n",
      "乘法(value1, value2) =  [-2916. -3892.]\n",
      "乘法(value1, value2) =  [-2922. -3900.]\n",
      "乘法(value1, value2) =  [-2928. -3908.]\n",
      "乘法(value1, value2) =  [-2934. -3916.]\n",
      "乘法(value1, value2) =  [-2940. -3924.]\n",
      "乘法(value1, value2) =  [-2946. -3932.]\n",
      "乘法(value1, value2) =  [-2952. -3940.]\n",
      "乘法(value1, value2) =  [-2958. -3948.]\n",
      "乘法(value1, value2) =  [-2964. -3956.]\n",
      "乘法(value1, value2) =  [-2970. -3964.]\n",
      "乘法(value1, value2) =  [-2976. -3972.]\n",
      "乘法(value1, value2) =  [-2982. -3980.]\n",
      "乘法(value1, value2) =  [-2988. -3988.]\n",
      "乘法(value1, value2) =  [-2994. -3996.]\n"
     ]
    }
   ],
   "source": [
    "# 10 GB数据\n",
    "def load_from_remote():\n",
    "    return [-x for x in range(1000)]\n",
    "\n",
    "\n",
    "# 自定义的 Iterator\n",
    "# yield， generator function\n",
    "def load_partial(value, step):\n",
    "    index = 0\n",
    "    while index < len(value):\n",
    "        yield value[index:index + step]\n",
    "        index += step\n",
    "    return\n",
    "\n",
    "\n",
    "graph = tf.Graph()\n",
    "\n",
    "with graph.as_default():\n",
    "    value1 = tf.placeholder(dtype=tf.float64)\n",
    "    value2 = tf.Variable([3, 4], dtype=tf.float64)\n",
    "    mul = value1 * value2\n",
    "\n",
    "with tf.Session(graph=graph) as mySess:\n",
    "    tf.initialize_all_variables().run()\n",
    "    # 我们想象一下这个数据是从远程加载进来的\n",
    "    # 文件，网络。。。。and so on \n",
    "   \n",
    "    value = load_from_remote()\n",
    "    for partialValue in load_partial(value, 2):\n",
    "        runResult = mySess.run(mul, feed_dict={value1: partialValue})\n",
    "        # evalResult = mul.eval(feed_dict={value1: partialValue})\n",
    "        print('乘法(value1, value2) = ', runResult)"
   ]
  },
  {
   "cell_type": "code",
   "execution_count": null,
   "metadata": {},
   "outputs": [],
   "source": []
  }
 ],
 "metadata": {
  "kernelspec": {
   "display_name": "Python 3",
   "language": "python",
   "name": "python3"
  },
  "language_info": {
   "codemirror_mode": {
    "name": "ipython",
    "version": 3
   },
   "file_extension": ".py",
   "mimetype": "text/x-python",
   "name": "python",
   "nbconvert_exporter": "python",
   "pygments_lexer": "ipython3",
   "version": "3.7.3"
  }
 },
 "nbformat": 4,
 "nbformat_minor": 2
}
